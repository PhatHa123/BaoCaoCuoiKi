{
  "nbformat": 4,
  "nbformat_minor": 0,
  "metadata": {
    "colab": {
      "name": "web.ipynb",
      "provenance": []
    },
    "kernelspec": {
      "name": "python3",
      "display_name": "Python 3"
    },
    "language_info": {
      "name": "python"
    },
    "accelerator": "GPU",
    "gpuClass": "standard"
  },
  "cells": [
    {
      "cell_type": "code",
      "execution_count": null,
      "metadata": {
        "colab": {
          "base_uri": "https://localhost:8080/"
        },
        "id": "twd20RCw_mRK",
        "outputId": "d35cc7b1-30f3-4a09-89c2-60ed27202c26"
      },
      "outputs": [
        {
          "output_type": "stream",
          "name": "stdout",
          "text": [
            "Looking in indexes: https://pypi.org/simple, https://us-python.pkg.dev/colab-wheels/public/simple/\n",
            "Collecting pyngrok\n",
            "  Downloading pyngrok-5.1.0.tar.gz (745 kB)\n",
            "\u001b[K     |████████████████████████████████| 745 kB 6.7 MB/s \n",
            "\u001b[?25hRequirement already satisfied: PyYAML in /usr/local/lib/python3.7/dist-packages (from pyngrok) (3.13)\n",
            "Building wheels for collected packages: pyngrok\n",
            "  Building wheel for pyngrok (setup.py) ... \u001b[?25l\u001b[?25hdone\n",
            "  Created wheel for pyngrok: filename=pyngrok-5.1.0-py3-none-any.whl size=19007 sha256=cb1de52c8037df2baa9681f2168e0473329513c8bd545dab69f135f73fde060a\n",
            "  Stored in directory: /root/.cache/pip/wheels/bf/e6/af/ccf6598ecefecd44104069371795cb9b3afbcd16987f6ccfb3\n",
            "Successfully built pyngrok\n",
            "Installing collected packages: pyngrok\n",
            "Successfully installed pyngrok-5.1.0\n"
          ]
        }
      ],
      "source": [
        "!pip install pyngrok"
      ]
    },
    {
      "cell_type": "code",
      "source": [
        "from google.colab import drive\n",
        "drive.mount('/content/drive')"
      ],
      "metadata": {
        "id": "JDVUJb24nQKI"
      },
      "execution_count": null,
      "outputs": []
    },
    {
      "cell_type": "code",
      "source": [
        "from flask import Flask, render_template\n",
        "from pyngrok import ngrok\n",
        "import matplotlib.pyplot as plt\n",
        "from tensorflow.keras.utils import img_to_array\n",
        "from tensorflow.keras.utils import load_img\n",
        "import numpy as np"
      ],
      "metadata": {
        "id": "pTJrkR6NPXtF"
      },
      "execution_count": null,
      "outputs": []
    },
    {
      "cell_type": "code",
      "source": [
        "port_no = 5000"
      ],
      "metadata": {
        "id": "mMyCs3vueO7J"
      },
      "execution_count": null,
      "outputs": []
    },
    {
      "cell_type": "code",
      "source": [
        "from tensorflow.keras.models import load_model\n",
        "model=load_model('/content/drive/MyDrive/neural.h5')"
      ],
      "metadata": {
        "id": "PbwPfv94DnRI"
      },
      "execution_count": null,
      "outputs": []
    },
    {
      "cell_type": "code",
      "source": [
        "classNames = {0: 'cá ali đầu bò',\n",
        " 1: 'cá ba đuôi',\n",
        " 2: 'cá bắp nẻ xanh',\n",
        " 3: 'cá beta trắng',\n",
        " 4: 'cá chim sâu',\n",
        " 5: 'cá gamma hoàng gia',\n",
        " 6: 'cá hề',\n",
        " 7: 'cá la hán',\n",
        " 8: 'cá lau kính',\n",
        " 9: 'cá mó tím',\n",
        " 10: 'cá ngựa',\n",
        " 11: 'cá thù lù',\n",
        " 12: 'cá trạng nguyên',\n",
        " 13: 'cá đĩa',\n",
        " 14: 'cá đuôi gai vàng'}\n",
        "\n"
      ],
      "metadata": {
        "id": "8IMCb1vaSxso"
      },
      "execution_count": null,
      "outputs": []
    },
    {
      "cell_type": "code",
      "source": [
        "def pred(path):\n",
        "  test_img=load_img(path,target_size=(32,32))\n",
        "  test_img= img_to_array(test_img)\n",
        "  test_img=test_img/255\n",
        "  test_img=np.expand_dims(test_img,axis=0)\n",
        "  result=model.predict(test_img)\n",
        "  final = np.argmax(result)\n",
        "  final = classNames[final]\n",
        "  return final\n",
        "  #predict(result)"
      ],
      "metadata": {
        "id": "ImsdZur_GF3V"
      },
      "execution_count": null,
      "outputs": []
    },
    {
      "cell_type": "code",
      "source": [
        "from flask import render_template_string, request\n",
        "app = Flask(__name__,template_folder='/content')\n",
        "ngrok.set_auth_token(\"2AQWReBkSiNVl2JnS4VkhcsNDHV_3atq1Ens5jZyvLChGDXyf\")\n",
        "public_url = ngrok.connect(port_no).public_url\n",
        "\n",
        "@app.route(\"/\",methods=[\"GET\"])\n",
        "def home():\n",
        "  return render_template(\"recognition.html\")\n",
        "\n",
        "@app.route(\"/\",methods=[\"POST\"])\n",
        "def predict():\n",
        "  imagefile = request.files['imagefile']\n",
        "  image_path = imagefile.filename\n",
        "  imagefile.save(image_path)\n",
        "  img_result = pred(image_path)\n",
        "  return render_template(\"recognition.html\",prediction=img_result,i_path=image_path)\n",
        "\n",
        "print(f\"to access gloable link please click {public_url}\")\n",
        "\n",
        "app.run(port=port_no)"
      ],
      "metadata": {
        "colab": {
          "base_uri": "https://localhost:8080/"
        },
        "id": "7UqPRbfIAC48",
        "outputId": "d229ab8a-405d-4c8b-cfcc-b4cd760ef4ae"
      },
      "execution_count": null,
      "outputs": [
        {
          "output_type": "stream",
          "name": "stdout",
          "text": [
            "to access gloable link please click http://3c31-35-247-35-82.ngrok.io\n",
            " * Serving Flask app \"__main__\" (lazy loading)\n",
            " * Environment: production\n",
            "\u001b[31m   WARNING: This is a development server. Do not use it in a production deployment.\u001b[0m\n",
            "\u001b[2m   Use a production WSGI server instead.\u001b[0m\n",
            " * Debug mode: off\n"
          ]
        },
        {
          "output_type": "stream",
          "name": "stderr",
          "text": [
            " * Running on http://127.0.0.1:5000/ (Press CTRL+C to quit)\n",
            "127.0.0.1 - - [18/Jun/2022 02:28:28] \"\u001b[37mGET / HTTP/1.1\u001b[0m\" 200 -\n",
            "127.0.0.1 - - [18/Jun/2022 02:28:29] \"\u001b[33mGET /favicon.ico HTTP/1.1\u001b[0m\" 404 -\n",
            "127.0.0.1 - - [18/Jun/2022 02:29:29] \"\u001b[37mPOST / HTTP/1.1\u001b[0m\" 200 -\n",
            "127.0.0.1 - - [18/Jun/2022 02:30:04] \"\u001b[37mPOST / HTTP/1.1\u001b[0m\" 200 -\n",
            "127.0.0.1 - - [18/Jun/2022 02:31:03] \"\u001b[37mPOST / HTTP/1.1\u001b[0m\" 200 -\n"
          ]
        }
      ]
    }
  ]
}